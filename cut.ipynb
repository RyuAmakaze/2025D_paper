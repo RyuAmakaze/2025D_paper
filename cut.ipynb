{
 "cells": [
  {
   "cell_type": "code",
   "execution_count": 34,
   "id": "bf3ec6b2",
   "metadata": {},
   "outputs": [],
   "source": [
    "from PIL import Image\n",
    "import os\n",
    "import cv2\n",
    "import numpy as np\n",
    "\n",
    "def cut_png(img_path):\n",
    "    n = 12  # 画像分割数\n",
    "    y0 = 256\n",
    "    x0 = 256 \n",
    "    \n",
    "    filename = os.path.basename(img_path)\n",
    "    #if(os.path.exists(filename==False)):\n",
    "    #    os.mkdir(filename)\n",
    "    image = cv2.imread(img_path) \n",
    "    h, w = image.shape[:2]\n",
    "    #print(image.shape)\n",
    "    \n",
    "    # 分割した画像を内包表記でリスト化\n",
    "    c = [image[x0*x:x0*(x+1), y0*y:y0*(y+1)] for x in range(n) for y in range(n)]\n",
    "\n",
    "    # c のリストから1つづつ取り出して\n",
    "    # ファイル番号（0.jpg、1.jpg、・・）を付けて、sepaフォルダに保存\n",
    "    for i, img in enumerate(c):\n",
    "        #print(img.shape)\n",
    "        #print(os.path.join('./test_photo/sepa', '{}.png'.format(i)))\n",
    "        #print(filename, '{}.png'.format(i))\n",
    "        try:\n",
    "            cv2.imwrite(os.path.join(filename, '{}.png'.format(i)), img)\n",
    "        except:\n",
    "            print(os.path.join(filename, '{}.png'.format(i)))"
   ]
  },
  {
   "cell_type": "code",
   "execution_count": 35,
   "id": "06e75dae",
   "metadata": {},
   "outputs": [
    {
     "name": "stdout",
     "output_type": "stream",
     "text": [
      "./png_RAW_data/3day/3day_No1L_220424.tif.png\n",
      "3day_No1L_220424.tif.png 132.png\n",
      "3day_No1L_220424.tif.png 133.png\n",
      "3day_No1L_220424.tif.png 134.png\n",
      "3day_No1L_220424.tif.png 135.png\n",
      "3day_No1L_220424.tif.png 136.png\n",
      "3day_No1L_220424.tif.png 137.png\n",
      "3day_No1L_220424.tif.png 138.png\n",
      "3day_No1L_220424.tif.png 139.png\n",
      "3day_No1L_220424.tif.png 140.png\n",
      "3day_No1L_220424.tif.png 141.png\n",
      "3day_No1L_220424.tif.png 142.png\n",
      "3day_No1L_220424.tif.png 143.png\n",
      "./png_RAW_data/3day/3day_No2L_220424.tif.png\n",
      "./png_RAW_data/3day/No3(L) ctx3day.tif.png_change.pngcolor_change.png\n",
      "./png_RAW_data/3day/No3(R) ctx3day.tif.png_change.pngcolor_change.png\n",
      "./png_RAW_data/3day/No4(L) ctx3day.tif.png_change.pngcolor_change.png\n",
      "./png_RAW_data/3day/No4(R) ctx3day.tif.png_change.pngcolor_change.png\n"
     ]
    }
   ],
   "source": [
    "import glob\n",
    "from PIL import Image\n",
    "\n",
    "folder = \"./png_RAW_data/3day/\"\n",
    "files = glob.glob(folder + \"*.png\")\n",
    "#print(files)\n",
    "for file in files:\n",
    "    print(file)\n",
    "    cut_png(file)  "
   ]
  },
  {
   "cell_type": "code",
   "execution_count": null,
   "id": "b7476f32",
   "metadata": {},
   "outputs": [],
   "source": []
  }
 ],
 "metadata": {
  "kernelspec": {
   "display_name": "Python 3 (ipykernel)",
   "language": "python",
   "name": "python3"
  },
  "language_info": {
   "codemirror_mode": {
    "name": "ipython",
    "version": 3
   },
   "file_extension": ".py",
   "mimetype": "text/x-python",
   "name": "python",
   "nbconvert_exporter": "python",
   "pygments_lexer": "ipython3",
   "version": "3.7.13"
  }
 },
 "nbformat": 4,
 "nbformat_minor": 5
}
